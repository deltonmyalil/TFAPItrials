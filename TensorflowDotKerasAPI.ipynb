{
 "cells": [
  {
   "cell_type": "markdown",
   "metadata": {},
   "source": [
    "# Keras API for Tensorflow"
   ]
  },
  {
   "cell_type": "markdown",
   "metadata": {},
   "source": [
    "## Loading and Preprocessing the Wine Data"
   ]
  },
  {
   "cell_type": "code",
   "execution_count": 1,
   "metadata": {},
   "outputs": [
    {
     "name": "stdout",
     "output_type": "stream",
     "text": [
      ".. _wine_dataset:\n",
      "\n",
      "Wine recognition dataset\n",
      "------------------------\n",
      "\n",
      "**Data Set Characteristics:**\n",
      "\n",
      "    :Number of Instances: 178 (50 in each of three classes)\n",
      "    :Number of Attributes: 13 numeric, predictive attributes and the class\n",
      "    :Attribute Information:\n",
      " \t\t- Alcohol\n",
      " \t\t- Malic acid\n",
      " \t\t- Ash\n",
      "\t\t- Alcalinity of ash  \n",
      " \t\t- Magnesium\n",
      "\t\t- Total phenols\n",
      " \t\t- Flavanoids\n",
      " \t\t- Nonflavanoid phenols\n",
      " \t\t- Proanthocyanins\n",
      "\t\t- Color intensity\n",
      " \t\t- Hue\n",
      " \t\t- OD280/OD315 of diluted wines\n",
      " \t\t- Proline\n",
      "\n",
      "    - class:\n",
      "            - class_0\n",
      "            - class_1\n",
      "            - class_2\n",
      "\t\t\n",
      "    :Summary Statistics:\n",
      "    \n",
      "    ============================= ==== ===== ======= =====\n",
      "                                   Min   Max   Mean     SD\n",
      "    ============================= ==== ===== ======= =====\n",
      "    Alcohol:                      11.0  14.8    13.0   0.8\n",
      "    Malic Acid:                   0.74  5.80    2.34  1.12\n",
      "    Ash:                          1.36  3.23    2.36  0.27\n",
      "    Alcalinity of Ash:            10.6  30.0    19.5   3.3\n",
      "    Magnesium:                    70.0 162.0    99.7  14.3\n",
      "    Total Phenols:                0.98  3.88    2.29  0.63\n",
      "    Flavanoids:                   0.34  5.08    2.03  1.00\n",
      "    Nonflavanoid Phenols:         0.13  0.66    0.36  0.12\n",
      "    Proanthocyanins:              0.41  3.58    1.59  0.57\n",
      "    Colour Intensity:              1.3  13.0     5.1   2.3\n",
      "    Hue:                          0.48  1.71    0.96  0.23\n",
      "    OD280/OD315 of diluted wines: 1.27  4.00    2.61  0.71\n",
      "    Proline:                       278  1680     746   315\n",
      "    ============================= ==== ===== ======= =====\n",
      "\n",
      "    :Missing Attribute Values: None\n",
      "    :Class Distribution: class_0 (59), class_1 (71), class_2 (48)\n",
      "    :Creator: R.A. Fisher\n",
      "    :Donor: Michael Marshall (MARSHALL%PLU@io.arc.nasa.gov)\n",
      "    :Date: July, 1988\n",
      "\n",
      "This is a copy of UCI ML Wine recognition datasets.\n",
      "https://archive.ics.uci.edu/ml/machine-learning-databases/wine/wine.data\n",
      "\n",
      "The data is the results of a chemical analysis of wines grown in the same\n",
      "region in Italy by three different cultivators. There are thirteen different\n",
      "measurements taken for different constituents found in the three types of\n",
      "wine.\n",
      "\n",
      "Original Owners: \n",
      "\n",
      "Forina, M. et al, PARVUS - \n",
      "An Extendible Package for Data Exploration, Classification and Correlation. \n",
      "Institute of Pharmaceutical and Food Analysis and Technologies,\n",
      "Via Brigata Salerno, 16147 Genoa, Italy.\n",
      "\n",
      "Citation:\n",
      "\n",
      "Lichman, M. (2013). UCI Machine Learning Repository\n",
      "[http://archive.ics.uci.edu/ml]. Irvine, CA: University of California,\n",
      "School of Information and Computer Science. \n",
      "\n",
      ".. topic:: References\n",
      "\n",
      "  (1) S. Aeberhard, D. Coomans and O. de Vel, \n",
      "  Comparison of Classifiers in High Dimensional Settings, \n",
      "  Tech. Rep. no. 92-02, (1992), Dept. of Computer Science and Dept. of  \n",
      "  Mathematics and Statistics, James Cook University of North Queensland. \n",
      "  (Also submitted to Technometrics). \n",
      "\n",
      "  The data was used with many others for comparing various \n",
      "  classifiers. The classes are separable, though only RDA \n",
      "  has achieved 100% correct classification. \n",
      "  (RDA : 100%, QDA 99.4%, LDA 98.9%, 1NN 96.1% (z-transformed data)) \n",
      "  (All results using the leave-one-out technique) \n",
      "\n",
      "  (2) S. Aeberhard, D. Coomans and O. de Vel, \n",
      "  \"THE CLASSIFICATION PERFORMANCE OF RDA\" \n",
      "  Tech. Rep. no. 92-01, (1992), Dept. of Computer Science and Dept. of \n",
      "  Mathematics and Statistics, James Cook University of North Queensland. \n",
      "  (Also submitted to Journal of Chemometrics).\n",
      "\n"
     ]
    }
   ],
   "source": [
    "from sklearn.datasets import load_wine\n",
    "wine_data = load_wine()\n",
    "print(wine_data['DESCR'])"
   ]
  },
  {
   "cell_type": "code",
   "execution_count": 2,
   "metadata": {},
   "outputs": [],
   "source": [
    "feature_data = wine_data['data']\n",
    "labels = wine_data['target']\n",
    "num_classes = 3"
   ]
  },
  {
   "cell_type": "code",
   "execution_count": 3,
   "metadata": {},
   "outputs": [],
   "source": [
    "# Partitioning\n",
    "from sklearn.model_selection import train_test_split\n",
    "X_train, X_test, y_train, y_test = train_test_split(feature_data, labels, test_size=0.3, random_state=0)\n",
    "\n",
    "# Scaling\n",
    "from sklearn.preprocessing import MinMaxScaler\n",
    "scaler = MinMaxScaler()\n",
    "scaled_X_train = scaler.fit_transform(X_train)\n",
    "scaled_X_test = scaler.transform(X_test)"
   ]
  },
  {
   "cell_type": "markdown",
   "metadata": {},
   "source": [
    "## Modeling using Keras API"
   ]
  },
  {
   "cell_type": "markdown",
   "metadata": {},
   "source": [
    "Some of the Keras API is in tf.contrib while other is in tf.keras"
   ]
  },
  {
   "cell_type": "code",
   "execution_count": 4,
   "metadata": {},
   "outputs": [],
   "source": [
    "import tensorflow as tf\n",
    "from tensorflow.contrib.keras import models"
   ]
  },
  {
   "cell_type": "code",
   "execution_count": 5,
   "metadata": {},
   "outputs": [],
   "source": [
    "dnn_keras_model = models.Sequential()"
   ]
  },
  {
   "cell_type": "markdown",
   "metadata": {},
   "source": [
    "Now sequentially add densely connected layers on top of each other"
   ]
  },
  {
   "cell_type": "code",
   "execution_count": 6,
   "metadata": {},
   "outputs": [
    {
     "name": "stdout",
     "output_type": "stream",
     "text": [
      "WARNING:tensorflow:From /home/themadscientist/anaconda3/lib/python3.7/site-packages/tensorflow/python/ops/resource_variable_ops.py:435: colocate_with (from tensorflow.python.framework.ops) is deprecated and will be removed in a future version.\n",
      "Instructions for updating:\n",
      "Colocations handled automatically by placer.\n"
     ]
    }
   ],
   "source": [
    "from tensorflow.contrib.keras import layers\n",
    "# Since it is the first layer, you need to define the input dimensions\n",
    "dnn_keras_model.add(layers.Dense(units=13, input_dim=13, activation='relu'))"
   ]
  },
  {
   "cell_type": "code",
   "execution_count": 7,
   "metadata": {},
   "outputs": [],
   "source": [
    "# Second Layer\n",
    "dnn_keras_model.add(layers.Dense(units=13, activation='relu'))\n",
    "# Third Layer\n",
    "dnn_keras_model.add(layers.Dense(units=13, activation='relu'))\n",
    "# Final Layer\n",
    "# 3 Units - one for each class, with softmax\n",
    "dnn_keras_model.add(layers.Dense(units=num_classes, activation='softmax'))"
   ]
  },
  {
   "cell_type": "markdown",
   "metadata": {},
   "source": [
    "Compile the Model"
   ]
  },
  {
   "cell_type": "code",
   "execution_count": 8,
   "metadata": {},
   "outputs": [],
   "source": [
    "from tensorflow.contrib.keras import losses, optimizers, metrics, activations\n",
    "# using sparse categorical crossentropy as the y_train and y_test are not already one Hotted\n",
    "dnn_keras_model.compile(optimizer='adam', loss='sparse_categorical_crossentropy', metrics=['accuracy'])"
   ]
  },
  {
   "cell_type": "markdown",
   "metadata": {},
   "source": [
    "Train the model"
   ]
  },
  {
   "cell_type": "code",
   "execution_count": 9,
   "metadata": {},
   "outputs": [
    {
     "name": "stdout",
     "output_type": "stream",
     "text": [
      "Epoch 1/50\n",
      "124/124 [==============================] - 1s 6ms/sample - loss: 1.0709 - acc: 0.4919\n",
      "Epoch 2/50\n",
      "124/124 [==============================] - 0s 227us/sample - loss: 1.0602 - acc: 0.6129\n",
      "Epoch 3/50\n",
      "124/124 [==============================] - 0s 238us/sample - loss: 1.0514 - acc: 0.6452\n",
      "Epoch 4/50\n",
      "124/124 [==============================] - 0s 241us/sample - loss: 1.0417 - acc: 0.6613\n",
      "Epoch 5/50\n",
      "124/124 [==============================] - 0s 223us/sample - loss: 1.0309 - acc: 0.6774\n",
      "Epoch 6/50\n",
      "124/124 [==============================] - 0s 194us/sample - loss: 1.0212 - acc: 0.6855\n",
      "Epoch 7/50\n",
      "124/124 [==============================] - 0s 152us/sample - loss: 1.0119 - acc: 0.6935\n",
      "Epoch 8/50\n",
      "124/124 [==============================] - 0s 225us/sample - loss: 1.0033 - acc: 0.6935\n",
      "Epoch 9/50\n",
      "124/124 [==============================] - 0s 273us/sample - loss: 0.9951 - acc: 0.7016\n",
      "Epoch 10/50\n",
      "124/124 [==============================] - 0s 168us/sample - loss: 0.9868 - acc: 0.7016\n",
      "Epoch 11/50\n",
      "124/124 [==============================] - 0s 150us/sample - loss: 0.9778 - acc: 0.7016\n",
      "Epoch 12/50\n",
      "124/124 [==============================] - 0s 214us/sample - loss: 0.9686 - acc: 0.7097\n",
      "Epoch 13/50\n",
      "124/124 [==============================] - 0s 176us/sample - loss: 0.9589 - acc: 0.7097\n",
      "Epoch 14/50\n",
      "124/124 [==============================] - 0s 157us/sample - loss: 0.9486 - acc: 0.7258\n",
      "Epoch 15/50\n",
      "124/124 [==============================] - 0s 177us/sample - loss: 0.9379 - acc: 0.7258\n",
      "Epoch 16/50\n",
      "124/124 [==============================] - 0s 207us/sample - loss: 0.9264 - acc: 0.7258\n",
      "Epoch 17/50\n",
      "124/124 [==============================] - 0s 219us/sample - loss: 0.9143 - acc: 0.7177\n",
      "Epoch 18/50\n",
      "124/124 [==============================] - 0s 305us/sample - loss: 0.9019 - acc: 0.7177\n",
      "Epoch 19/50\n",
      "124/124 [==============================] - 0s 175us/sample - loss: 0.8883 - acc: 0.7258\n",
      "Epoch 20/50\n",
      "124/124 [==============================] - 0s 135us/sample - loss: 0.8729 - acc: 0.7258\n",
      "Epoch 21/50\n",
      "124/124 [==============================] - 0s 227us/sample - loss: 0.8567 - acc: 0.7500\n",
      "Epoch 22/50\n",
      "124/124 [==============================] - 0s 277us/sample - loss: 0.8382 - acc: 0.7581\n",
      "Epoch 23/50\n",
      "124/124 [==============================] - 0s 198us/sample - loss: 0.8204 - acc: 0.7823\n",
      "Epoch 24/50\n",
      "124/124 [==============================] - 0s 342us/sample - loss: 0.8003 - acc: 0.7903\n",
      "Epoch 25/50\n",
      "124/124 [==============================] - 0s 186us/sample - loss: 0.7798 - acc: 0.7823\n",
      "Epoch 26/50\n",
      "124/124 [==============================] - 0s 197us/sample - loss: 0.7597 - acc: 0.8145\n",
      "Epoch 27/50\n",
      "124/124 [==============================] - 0s 188us/sample - loss: 0.7386 - acc: 0.8468\n",
      "Epoch 28/50\n",
      "124/124 [==============================] - 0s 283us/sample - loss: 0.7178 - acc: 0.8468\n",
      "Epoch 29/50\n",
      "124/124 [==============================] - 0s 181us/sample - loss: 0.6965 - acc: 0.8710\n",
      "Epoch 30/50\n",
      "124/124 [==============================] - 0s 187us/sample - loss: 0.6744 - acc: 0.8790\n",
      "Epoch 31/50\n",
      "124/124 [==============================] - 0s 199us/sample - loss: 0.6517 - acc: 0.9194\n",
      "Epoch 32/50\n",
      "124/124 [==============================] - 0s 204us/sample - loss: 0.6288 - acc: 0.9274\n",
      "Epoch 33/50\n",
      "124/124 [==============================] - 0s 334us/sample - loss: 0.6060 - acc: 0.9355\n",
      "Epoch 34/50\n",
      "124/124 [==============================] - 0s 160us/sample - loss: 0.5822 - acc: 0.9435\n",
      "Epoch 35/50\n",
      "124/124 [==============================] - 0s 205us/sample - loss: 0.5577 - acc: 0.9516\n",
      "Epoch 36/50\n",
      "124/124 [==============================] - 0s 193us/sample - loss: 0.5329 - acc: 0.9516\n",
      "Epoch 37/50\n",
      "124/124 [==============================] - 0s 259us/sample - loss: 0.5088 - acc: 0.9516\n",
      "Epoch 38/50\n",
      "124/124 [==============================] - 0s 242us/sample - loss: 0.4848 - acc: 0.9516\n",
      "Epoch 39/50\n",
      "124/124 [==============================] - 0s 491us/sample - loss: 0.4602 - acc: 0.9597\n",
      "Epoch 40/50\n",
      "124/124 [==============================] - 0s 223us/sample - loss: 0.4365 - acc: 0.9677\n",
      "Epoch 41/50\n",
      "124/124 [==============================] - 0s 202us/sample - loss: 0.4137 - acc: 0.9677\n",
      "Epoch 42/50\n",
      "124/124 [==============================] - 0s 210us/sample - loss: 0.3910 - acc: 0.9758\n",
      "Epoch 43/50\n",
      "124/124 [==============================] - 0s 202us/sample - loss: 0.3695 - acc: 0.9758\n",
      "Epoch 44/50\n",
      "124/124 [==============================] - 0s 195us/sample - loss: 0.3483 - acc: 0.9758\n",
      "Epoch 45/50\n",
      "124/124 [==============================] - 0s 213us/sample - loss: 0.3277 - acc: 0.9758\n",
      "Epoch 46/50\n",
      "124/124 [==============================] - 0s 219us/sample - loss: 0.3088 - acc: 0.9758\n",
      "Epoch 47/50\n",
      "124/124 [==============================] - 0s 230us/sample - loss: 0.2894 - acc: 0.9839\n",
      "Epoch 48/50\n",
      "124/124 [==============================] - 0s 320us/sample - loss: 0.2715 - acc: 0.9758\n",
      "Epoch 49/50\n",
      "124/124 [==============================] - 0s 199us/sample - loss: 0.2554 - acc: 0.9758\n",
      "Epoch 50/50\n",
      "124/124 [==============================] - 0s 219us/sample - loss: 0.2399 - acc: 0.9758\n"
     ]
    },
    {
     "data": {
      "text/plain": [
       "<tensorflow.python.keras.callbacks.History at 0x7ff8fec64278>"
      ]
     },
     "execution_count": 9,
     "metadata": {},
     "output_type": "execute_result"
    }
   ],
   "source": [
    "dnn_keras_model.fit(scaled_X_train, y_train, epochs=50) # Optionally can perform validation split here"
   ]
  },
  {
   "cell_type": "markdown",
   "metadata": {},
   "source": [
    "Make Predictions"
   ]
  },
  {
   "cell_type": "code",
   "execution_count": 13,
   "metadata": {},
   "outputs": [
    {
     "data": {
      "text/plain": [
       "array([[0.919404  , 0.01294519, 0.06765091],\n",
       "       [0.15783016, 0.06257392, 0.7795959 ],\n",
       "       [0.17447695, 0.78228056, 0.0432425 ],\n",
       "       [0.8450709 , 0.04435303, 0.11057606],\n",
       "       [0.27304298, 0.5752478 , 0.15170923]], dtype=float32)"
      ]
     },
     "execution_count": 13,
     "metadata": {},
     "output_type": "execute_result"
    }
   ],
   "source": [
    "pred = dnn_keras_model.predict(scaled_X_test)\n",
    "pred[:5] # This returns the softmax values for each class"
   ]
  },
  {
   "cell_type": "code",
   "execution_count": 14,
   "metadata": {},
   "outputs": [
    {
     "data": {
      "text/plain": [
       "array([0, 2, 1, 0, 1])"
      ]
     },
     "execution_count": 14,
     "metadata": {},
     "output_type": "execute_result"
    }
   ],
   "source": [
    "predictions = dnn_keras_model.predict_classes(scaled_X_test)\n",
    "predictions[:5]"
   ]
  },
  {
   "cell_type": "markdown",
   "metadata": {},
   "source": [
    "## Evaluating the Model"
   ]
  },
  {
   "cell_type": "code",
   "execution_count": 17,
   "metadata": {},
   "outputs": [
    {
     "name": "stdout",
     "output_type": "stream",
     "text": [
      "              precision    recall  f1-score   support\n",
      "\n",
      "           0       1.00      1.00      1.00        19\n",
      "           1       1.00      1.00      1.00        22\n",
      "           2       1.00      1.00      1.00        13\n",
      "\n",
      "   micro avg       1.00      1.00      1.00        54\n",
      "   macro avg       1.00      1.00      1.00        54\n",
      "weighted avg       1.00      1.00      1.00        54\n",
      "\n"
     ]
    }
   ],
   "source": [
    "from sklearn.metrics import classification_report, confusion_matrix\n",
    "print(classification_report(y_test, predictions))"
   ]
  },
  {
   "cell_type": "code",
   "execution_count": 18,
   "metadata": {},
   "outputs": [
    {
     "data": {
      "text/plain": [
       "array([[19,  0,  0],\n",
       "       [ 0, 22,  0],\n",
       "       [ 0,  0, 13]])"
      ]
     },
     "execution_count": 18,
     "metadata": {},
     "output_type": "execute_result"
    }
   ],
   "source": [
    "confusion_matrix(y_test, predictions)"
   ]
  }
 ],
 "metadata": {
  "kernelspec": {
   "display_name": "Python 3",
   "language": "python",
   "name": "python3"
  },
  "language_info": {
   "codemirror_mode": {
    "name": "ipython",
    "version": 3
   },
   "file_extension": ".py",
   "mimetype": "text/x-python",
   "name": "python",
   "nbconvert_exporter": "python",
   "pygments_lexer": "ipython3",
   "version": "3.7.1"
  }
 },
 "nbformat": 4,
 "nbformat_minor": 2
}
